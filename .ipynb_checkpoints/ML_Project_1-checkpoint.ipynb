{
 "cells": [
  {
   "cell_type": "code",
   "execution_count": 1,
   "id": "cbf5f984",
   "metadata": {},
   "outputs": [],
   "source": [
    "# Useful starting lines\n",
    "%matplotlib inline\n",
    "import numpy as np\n",
    "import itertools\n",
    "import matplotlib.pyplot as plt\n",
    "import csv\n",
    "import helpers as helpers\n",
    "import implementations as impl"
   ]
  },
  {
   "cell_type": "code",
   "execution_count": 2,
   "id": "f0118fe0",
   "metadata": {},
   "outputs": [],
   "source": [
    "# Load data\n",
    "train_data, train_labels, ids = helpers.load_data('train.csv')"
   ]
  },
  {
   "cell_type": "code",
   "execution_count": 3,
   "id": "19e5e9f4",
   "metadata": {},
   "outputs": [],
   "source": [
    "# Clean and standardize data\n",
    "new_data = helper.standardize(helpers.clean_data(train_data))\n",
    "train_labels[train_labels==-1]=0"
   ]
  },
  {
   "cell_type": "code",
   "execution_count": 4,
   "id": "95d433f4",
   "metadata": {},
   "outputs": [],
   "source": [
    "# Shuffle data\n",
    "train_labels, new_data = helpers.shuffle_data(train_labels, new_data)"
   ]
  },
  {
   "cell_type": "code",
   "execution_count": 5,
   "id": "21a269d4",
   "metadata": {},
   "outputs": [],
   "source": [
    "# Slice into training and validation sets\n",
    "y_validation, y_train, tx_validation, tx_train = helpers.slice_data(train_labels, new_data, 0.25)"
   ]
  },
  {
   "cell_type": "code",
   "execution_count": 6,
   "id": "950c137d",
   "metadata": {},
   "outputs": [],
   "source": [
    "# Expand degree\n",
    "tx_train = helpers.build_poly(tx_train, 2)\n",
    "tx_validation = helpers.build_poly(tx_validation, 2)"
   ]
  },
  {
   "cell_type": "code",
   "execution_count": 9,
   "id": "d5a81fa6",
   "metadata": {},
   "outputs": [],
   "source": [
    "# Add bias to data\n",
    "tx_train = np.c_[np.ones((tx_train.shape[0], 1)), tx_train]\n",
    "tx_validation = np.c_[np.ones((tx_validation.shape[0], 1)), tx_validation]"
   ]
  },
  {
   "cell_type": "code",
   "execution_count": 11,
   "id": "30513e86",
   "metadata": {
    "scrolled": false
   },
   "outputs": [
    {
     "name": "stdout",
     "output_type": "stream",
     "text": [
      "Current iteration=0, loss=0.6879840591914723\n",
      "Current iteration=100, loss=0.5024897008814241\n",
      "Current iteration=200, loss=0.48814420068433134\n",
      "Current iteration=300, loss=0.4811175878058417\n",
      "Current iteration=400, loss=0.47629903329682693\n",
      "Current iteration=500, loss=0.4727251748749316\n",
      "Current iteration=600, loss=0.4700164620753463\n",
      "Current iteration=700, loss=0.4678910069448358\n",
      "Current iteration=800, loss=0.4661557033616474\n",
      "Current iteration=900, loss=0.4646932828395391\n",
      "Current iteration=1000, loss=0.4634319443280991\n",
      "Current iteration=1100, loss=0.4623249420484042\n",
      "Current iteration=1200, loss=0.4613399723540195\n",
      "Current iteration=1300, loss=0.46045373636301606\n",
      "Current iteration=1400, loss=0.45964890085244675\n",
      "Current iteration=1500, loss=0.45891225373540734\n",
      "Current iteration=1600, loss=0.45823351780097926\n",
      "Current iteration=1700, loss=0.45760455689948837\n",
      "Current iteration=1800, loss=0.4570188292297599\n",
      "Current iteration=1900, loss=0.45647100218273456\n",
      "Current iteration=2000, loss=0.4559566756472733\n",
      "Current iteration=2100, loss=0.45547217959576286\n",
      "Current iteration=2200, loss=0.4550144234117152\n",
      "Current iteration=2300, loss=0.45458078186418177\n",
      "Current iteration=2400, loss=0.4541690074906381\n",
      "Current iteration=2500, loss=0.4537771623505317\n",
      "Current iteration=2600, loss=0.45340356423352945\n",
      "Current iteration=2700, loss=0.453046743824748\n",
      "Current iteration=2800, loss=0.4527054102898217\n",
      "Current iteration=2900, loss=0.45237842340526496\n",
      "Current iteration=3000, loss=0.4520647708265204\n",
      "Current iteration=3100, loss=0.45176354942232766\n",
      "Current iteration=3200, loss=0.4514739498509914\n",
      "Current iteration=3300, loss=0.4511952437385078\n",
      "Current iteration=3400, loss=0.4509267729579544\n",
      "Current iteration=3500, loss=0.45066794061607884\n",
      "Current iteration=3600, loss=0.4504182034350434\n",
      "Current iteration=3700, loss=0.4501770652808097\n",
      "Current iteration=3800, loss=0.44994407163914973\n",
      "Current iteration=3900, loss=0.44971880487900856\n",
      "Current iteration=4000, loss=0.4495008801734272\n",
      "Current iteration=4100, loss=0.4492899419723515\n",
      "Current iteration=4200, loss=0.4490856609408073\n",
      "Current iteration=4300, loss=0.4488877312912409\n",
      "Current iteration=4400, loss=0.4486958684511283\n",
      "Current iteration=4500, loss=0.4485098070168959\n",
      "Current iteration=4600, loss=0.44832929895326556\n",
      "Current iteration=4700, loss=0.44815411200373007\n",
      "Current iteration=4800, loss=0.4479840282832666\n",
      "Current iteration=4900, loss=0.4478188430288593\n",
      "Current iteration=5000, loss=0.44765836348709115\n",
      "Current iteration=5100, loss=0.44750240792113954\n",
      "Current iteration=5200, loss=0.4473508047220814\n",
      "Current iteration=5300, loss=0.44720339161156825\n",
      "Current iteration=5400, loss=0.447060014924746\n",
      "Current iteration=5500, loss=0.4469205289638335\n",
      "Current iteration=5600, loss=0.44678479541407823\n",
      "Current iteration=5700, loss=0.4466526828149118\n",
      "Current iteration=5800, loss=0.4465240660800815\n",
      "Current iteration=5900, loss=0.44639882606134085\n",
      "Current iteration=6000, loss=0.4462768491509746\n",
      "Current iteration=6100, loss=0.446158026919037\n",
      "Current iteration=6200, loss=0.4460422557816843\n",
      "Current iteration=6300, loss=0.44592943669743357\n",
      "Current iteration=6400, loss=0.445819474888549\n",
      "Current iteration=6500, loss=0.4457122795850934\n",
      "Current iteration=6600, loss=0.4456077637894503\n",
      "Current iteration=6700, loss=0.4455058440593788\n",
      "Current iteration=6800, loss=0.4454064403078628\n",
      "Current iteration=6900, loss=0.44530947561820133\n",
      "Current iteration=7000, loss=0.4452148760729441\n",
      "Current iteration=7100, loss=0.4451225705954193\n",
      "Current iteration=7200, loss=0.4450324908027164\n",
      "Current iteration=7300, loss=0.4449445708691001\n",
      "Current iteration=7400, loss=0.44485874739893244\n",
      "Current iteration=7500, loss=0.4447749593082595\n",
      "Current iteration=7600, loss=0.4446931477143063\n",
      "Current iteration=7700, loss=0.4446132558321956\n",
      "Current iteration=7800, loss=0.44453522887826835\n",
      "Current iteration=7900, loss=0.4444590139794472\n",
      "Current iteration=8000, loss=0.44438456008814\n",
      "Current iteration=8100, loss=0.444311817902227\n",
      "Current iteration=8200, loss=0.4442407397897257\n",
      "Current iteration=8300, loss=0.4441712797177596\n",
      "Current iteration=8400, loss=0.444103393185504\n",
      "Current iteration=8500, loss=0.44403703716080806\n",
      "Current iteration=8600, loss=0.44397217002022055\n",
      "Current iteration=8700, loss=0.4439087514921779\n",
      "Current iteration=8800, loss=0.44384674260313345\n",
      "Current iteration=8900, loss=0.4437861056264239\n",
      "Current iteration=9000, loss=0.4437268040336946\n",
      "Current iteration=9100, loss=0.44366880244871354\n",
      "Current iteration=9200, loss=0.443612066603424\n",
      "Current iteration=9300, loss=0.44355656329609405\n",
      "Current iteration=9400, loss=0.44350226035143714\n",
      "Current iteration=9500, loss=0.443449126582582\n",
      "Current iteration=9600, loss=0.44339713175478673\n",
      "Current iteration=9700, loss=0.4433462465507926\n",
      "Current iteration=9800, loss=0.4432964425377268\n",
      "Current iteration=9900, loss=0.44324769213546356\n"
     ]
    }
   ],
   "source": [
    "# Initialize the weights randomly according to a Gaussian distribution\n",
    "initial_w = np.random.normal(0., 0.1, [tx_train.shape[1],])\n",
    "\n",
    "# Train model\n",
    "trained_weights, train_loss = impl.logistic_regression(y_train, tx_train, initial_w, max_iters=10000, gamma=0.1)"
   ]
  },
  {
   "cell_type": "code",
   "execution_count": 12,
   "id": "9288e049",
   "metadata": {
    "scrolled": true
   },
   "outputs": [
    {
     "name": "stdout",
     "output_type": "stream",
     "text": [
      "[-1.19850720e+00  1.80757864e+00 -1.00102034e+00 -4.75226323e-02\n",
      "  6.62427463e-01 -3.98828019e-01 -1.80350165e-01 -2.59925521e-01\n",
      "  2.72974994e+00 -9.28327062e-02  3.56977473e-01 -8.22808028e-01\n",
      "  1.27018261e-01 -2.26831109e-02  7.03260622e-01 -6.39258413e-03\n",
      " -5.65360235e-03  9.38070126e-01  3.08978070e-03  3.44175740e-03\n",
      " -1.48194900e-01  2.34599412e-03  1.52289469e-01 -3.56373411e-01\n",
      "  2.83810488e-01 -1.88338647e-03 -3.54361280e-03  3.72764602e-02\n",
      "  4.28734076e-03 -9.95468920e-04 -4.59267655e-02 -2.44849713e+00\n",
      "  5.38608593e-01 -2.12155419e+00 -9.56948784e-02  2.55663519e-01\n",
      "  2.42696932e-01 -1.07011977e-02 -1.74325552e+00  6.24677116e-01\n",
      " -2.83407352e-01  2.72797048e-01  1.20786201e-01  2.41532684e-01\n",
      " -3.15706205e-01 -1.16457424e-01 -9.18322287e-03 -2.59612478e-01\n",
      " -1.90295241e-01 -8.19590921e-03  4.59047901e-01  1.40579582e-03\n",
      " -3.96491162e-01 -9.91457971e-02 -2.72085269e-01  3.60970661e-01\n",
      " -2.30982603e-03  3.39208148e-02  3.02985182e-01 -9.71897606e-03\n",
      "  4.05864160e-02]\n"
     ]
    }
   ],
   "source": [
    "print(trained_weights)"
   ]
  },
  {
   "cell_type": "code",
   "execution_count": 13,
   "id": "7bf50be9",
   "metadata": {},
   "outputs": [
    {
     "name": "stdout",
     "output_type": "stream",
     "text": [
      "train_accuracy = 0.797472\n",
      "validation_accuracy = 0.78744\n"
     ]
    }
   ],
   "source": [
    "# Cross validation\n",
    "predict_validation = helpers.predict_logistic(tx_validation, trained_weights)\n",
    "predict_train = helpers.predict_logistic(tx_train, trained_weights)\n",
    "\n",
    "predict_validation[predict_validation == -1] = 0\n",
    "predict_train[predict_train == -1] = 0\n",
    "\n",
    "train_accuracy = helpers.accuracy(predict_train, y_train)\n",
    "validation_accuracy = helpers.accuracy(predict_validation, y_validation)\n",
    "\n",
    "print(f\"train_accuracy = {train_accuracy}\")\n",
    "print(f\"validation_accuracy = {validation_accuracy}\")"
   ]
  },
  {
   "cell_type": "code",
   "execution_count": 14,
   "id": "951c19bf",
   "metadata": {},
   "outputs": [
    {
     "name": "stdout",
     "output_type": "stream",
     "text": [
      "[0. 0. 0. ... 1. 0. 0.]\n",
      "[1. 0. 0. ... 1. 0. 0.]\n"
     ]
    }
   ],
   "source": [
    "print(predict_validation)\n",
    "print(y_validation)"
   ]
  },
  {
   "cell_type": "code",
   "execution_count": null,
   "id": "a5193e4f",
   "metadata": {},
   "outputs": [],
   "source": [
    "tx_test, y_test, ids_test = helpers.load_data('test.csv', train=False)\n",
    "tx_test = helpers.standardize(helpers.clean_data(tx_test))"
   ]
  },
  {
   "cell_type": "code",
   "execution_count": null,
   "id": "c6922cc9",
   "metadata": {},
   "outputs": [],
   "source": [
    "tx_test = helpers.build_poly(tx_test, 2)\n",
    "predict_test = helpers.predict_logistic(tx_test, trained_weights)\n",
    "print(predict_test)"
   ]
  },
  {
   "cell_type": "code",
   "execution_count": null,
   "id": "50c95d63",
   "metadata": {},
   "outputs": [],
   "source": [
    "helpers.create_csv_submission(ids_test, predict_test, 'Predictions_Logistics_degree3.csv')"
   ]
  }
 ],
 "metadata": {
  "kernelspec": {
   "display_name": "Python 3 (ipykernel)",
   "language": "python",
   "name": "python3"
  },
  "language_info": {
   "codemirror_mode": {
    "name": "ipython",
    "version": 3
   },
   "file_extension": ".py",
   "mimetype": "text/x-python",
   "name": "python",
   "nbconvert_exporter": "python",
   "pygments_lexer": "ipython3",
   "version": "3.9.13"
  }
 },
 "nbformat": 4,
 "nbformat_minor": 5
}
