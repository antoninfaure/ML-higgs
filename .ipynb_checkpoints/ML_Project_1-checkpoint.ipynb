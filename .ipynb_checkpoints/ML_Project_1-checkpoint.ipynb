{
 "cells": [
  {
   "cell_type": "code",
   "execution_count": 1,
   "id": "cbf5f984",
   "metadata": {},
   "outputs": [],
   "source": [
    "# Useful starting lines\n",
    "%matplotlib inline\n",
    "import numpy as np\n",
    "import itertools\n",
    "import matplotlib.pyplot as plt\n",
    "import csv\n",
    "import helpers as helpers\n",
    "import implementations as impl"
   ]
  },
  {
   "cell_type": "code",
   "execution_count": 2,
   "id": "f0118fe0",
   "metadata": {},
   "outputs": [],
   "source": [
    "# Load data\n",
    "train_data, train_labels, ids = helpers.load_data('train.csv')"
   ]
  },
  {
   "cell_type": "code",
   "execution_count": 4,
   "id": "19e5e9f4",
   "metadata": {},
   "outputs": [],
   "source": [
    "# Clean and standardize data\n",
    "new_data = helpers.standardize(helpers.clean_data(train_data))\n",
    "train_labels[train_labels==-1]=0"
   ]
  },
  {
   "cell_type": "code",
   "execution_count": 5,
   "id": "95d433f4",
   "metadata": {},
   "outputs": [],
   "source": [
    "# Shuffle data\n",
    "train_labels, new_data = helpers.shuffle_data(train_labels, new_data)"
   ]
  },
  {
   "cell_type": "code",
   "execution_count": 6,
   "id": "21a269d4",
   "metadata": {},
   "outputs": [],
   "source": [
    "# Slice into training and validation sets\n",
    "y_validation, y_train, tx_validation, tx_train = helpers.slice_data(train_labels, new_data, 0.25)"
   ]
  },
  {
   "cell_type": "code",
   "execution_count": 7,
   "id": "950c137d",
   "metadata": {},
   "outputs": [],
   "source": [
    "# Expand degree\n",
    "tx_train = helpers.build_poly_deg2(tx_train)\n",
    "tx_validation = helpers.build_poly_2(tx_validation)"
   ]
  },
  {
   "cell_type": "code",
   "execution_count": 8,
   "id": "d5a81fa6",
   "metadata": {},
   "outputs": [],
   "source": [
    "# Add bias to data\n",
    "tx_train = np.c_[np.ones((tx_train.shape[0], 1)), tx_train]\n",
    "tx_validation = np.c_[np.ones((tx_validation.shape[0], 1)), tx_validation]"
   ]
  },
  {
   "cell_type": "code",
   "execution_count": 9,
   "id": "30513e86",
   "metadata": {
    "scrolled": false
   },
   "outputs": [
    {
     "name": "stdout",
     "output_type": "stream",
     "text": [
      "Current iteration=0, loss=1.0030165128857866\n",
      "Current iteration=100, loss=0.4600769740640686\n",
      "Current iteration=200, loss=0.4522624064619956\n",
      "Current iteration=300, loss=0.44977975413477017\n",
      "Current iteration=400, loss=0.44852027993561133\n",
      "Current iteration=500, loss=0.4477107611090668\n",
      "Current iteration=600, loss=0.44710836347250904\n",
      "Current iteration=700, loss=0.44661679617008115\n",
      "Current iteration=800, loss=0.4461926357994798\n",
      "Current iteration=900, loss=0.44581435842961564\n",
      "Current iteration=1000, loss=0.4454703500865114\n",
      "Current iteration=1100, loss=0.4451538006153166\n",
      "Current iteration=1200, loss=0.44486037636735215\n",
      "Current iteration=1300, loss=0.44458709918996087\n",
      "Current iteration=1400, loss=0.4443317785413557\n",
      "Current iteration=1500, loss=0.44409270936816714\n",
      "Current iteration=1600, loss=0.44386850342603834\n",
      "Current iteration=1700, loss=0.4436579905807344\n",
      "Current iteration=1800, loss=0.44346015841821357\n",
      "Current iteration=1900, loss=0.4432741137089506\n",
      "Current iteration=2000, loss=0.44309905682419776\n",
      "Current iteration=2100, loss=0.44293426409436387\n",
      "Current iteration=2200, loss=0.4427790751865795\n",
      "Current iteration=2300, loss=0.44263288374366194\n",
      "Current iteration=2400, loss=0.44249513020364784\n",
      "Current iteration=2500, loss=0.44236529612622777\n",
      "Current iteration=2600, loss=0.4422428996026638\n",
      "Current iteration=2700, loss=0.44212749147935804\n",
      "Current iteration=2800, loss=0.4420186522168048\n",
      "Current iteration=2900, loss=0.441915989257541\n",
      "Current iteration=3000, loss=0.44181913480506463\n",
      "Current iteration=3100, loss=0.44172774393215775\n",
      "Current iteration=3200, loss=0.44164149294912985\n",
      "Current iteration=3300, loss=0.44156007797378094\n",
      "Current iteration=3400, loss=0.44148321365630605\n",
      "Current iteration=3500, loss=0.44141063202332853\n",
      "Current iteration=3600, loss=0.4413420814149733\n",
      "Current iteration=3700, loss=0.44127732549677695\n",
      "Current iteration=3800, loss=0.4412161423341706\n",
      "Current iteration=3900, loss=0.44115832352144513\n",
      "Current iteration=4000, loss=0.44110367335987827\n",
      "Current iteration=4100, loss=0.4410520080814304\n",
      "Current iteration=4200, loss=0.44100315511544097\n",
      "Current iteration=4300, loss=0.44095695239632243\n",
      "Current iteration=4400, loss=0.4409132477105426\n",
      "Current iteration=4500, loss=0.4408718980813109\n",
      "Current iteration=4600, loss=0.440832769189433\n",
      "Current iteration=4700, loss=0.4407957348288058\n",
      "Current iteration=4800, loss=0.4407606763950118\n",
      "Current iteration=4900, loss=0.44072748240546344\n",
      "Current iteration=5000, loss=0.44069604804954615\n",
      "Current iteration=5100, loss=0.4406662747672162\n",
      "Current iteration=5200, loss=0.4406380698545158\n",
      "Current iteration=5300, loss=0.44061134609450453\n",
      "Current iteration=5400, loss=0.4405860214121341\n",
      "Current iteration=5500, loss=0.4405620185516344\n",
      "Current iteration=5600, loss=0.4405392647750301\n",
      "Current iteration=5700, loss=0.4405176915804607\n",
      "Current iteration=5800, loss=0.44049723443903077\n",
      "Current iteration=5900, loss=0.44047783254898193\n",
      "Current iteration=6000, loss=0.44045942860604054\n",
      "Current iteration=6100, loss=0.4404419685888528\n",
      "Current iteration=6200, loss=0.4404254015584899\n",
      "Current iteration=6300, loss=0.4404096794710624\n",
      "Current iteration=6400, loss=0.4403947570025435\n",
      "Current iteration=6500, loss=0.4403805913849674\n",
      "Current iteration=6600, loss=0.4403671422532114\n",
      "Current iteration=6700, loss=0.44035437150163886\n",
      "Current iteration=6800, loss=0.44034224314992143\n",
      "Current iteration=6900, loss=0.4403307232174091\n",
      "Current iteration=7000, loss=0.4403197796054635\n",
      "Current iteration=7100, loss=0.44030938198721115\n",
      "Current iteration=7200, loss=0.4402995017042103\n",
      "Current iteration=7300, loss=0.44029011166956455\n",
      "Current iteration=7400, loss=0.4402811862770507\n",
      "Current iteration=7500, loss=0.44027270131585344\n",
      "Current iteration=7600, loss=0.4402646338905397\n",
      "Current iteration=7700, loss=0.4402569623459199\n",
      "Current iteration=7800, loss=0.44024966619647765\n",
      "Current iteration=7900, loss=0.44024272606006837\n",
      "Current iteration=8000, loss=0.44023612359560815\n",
      "Current iteration=8100, loss=0.4402298414444963\n",
      "Current iteration=8200, loss=0.44022386317552936\n",
      "Current iteration=8300, loss=0.4402181732330848\n",
      "Current iteration=8400, loss=0.4402127568883674\n",
      "Current iteration=8500, loss=0.4402076001935222\n",
      "Current iteration=8600, loss=0.44020268993843503\n",
      "Current iteration=8700, loss=0.4401980136100539\n",
      "Current iteration=8800, loss=0.4401935593540725\n",
      "Current iteration=8900, loss=0.44018931593882965\n",
      "Current iteration=9000, loss=0.4401852727212899\n",
      "Current iteration=9100, loss=0.44018141961497687\n",
      "Current iteration=9200, loss=0.4401777470597395\n",
      "Current iteration=9300, loss=0.44017424599324073\n",
      "Current iteration=9400, loss=0.440170907824066\n",
      "Current iteration=9500, loss=0.44016772440635027\n",
      "Current iteration=9600, loss=0.44016468801583825\n",
      "Current iteration=9700, loss=0.4401617913272861\n",
      "Current iteration=9800, loss=0.4401590273931315\n",
      "Current iteration=9900, loss=0.4401563896233511\n"
     ]
    }
   ],
   "source": [
    "# Initialize the weights randomly according to a Gaussian distribution\n",
    "initial_w = np.random.normal(0., 0.1, [tx_train.shape[1],])\n",
    "\n",
    "# Train model\n",
    "trained_weights, train_loss = impl.logistic_regression(y_train, tx_train, initial_w, max_iters=10000, gamma=0.1)"
   ]
  },
  {
   "cell_type": "code",
   "execution_count": 10,
   "id": "9288e049",
   "metadata": {
    "scrolled": true
   },
   "outputs": [
    {
     "name": "stdout",
     "output_type": "stream",
     "text": [
      "[-6.44962036e-01  8.86689944e-01 -6.60452236e-01 -1.23385034e+00\n",
      "  9.13402726e-01 -1.78549779e-01 -1.35625339e-01 -2.52731971e-01\n",
      "  1.11419654e+00 -1.11348517e-01  1.84208738e-01 -8.08377234e-01\n",
      "  3.42696844e-02  1.93559144e-01  5.51147342e-01 -3.84801812e-03\n",
      " -5.34862802e-03  9.13268596e-01  8.05326706e-03  3.61286635e-03\n",
      " -2.22014309e-01  1.69332150e-03 -6.31049270e-02 -3.49616757e-01\n",
      "  2.64348985e-01 -3.81603742e-03 -5.17898427e-03  9.49934204e-02\n",
      "  8.40822876e-04 -8.97564602e-04 -2.09074260e-01 -4.55906901e-01\n",
      "  1.22715939e-01 -1.08339125e-01  1.91211326e-02  4.25077254e-02\n",
      "  3.22068496e-02 -4.23689840e-03 -5.20407990e-01  3.42174471e-02\n",
      " -1.39363193e-01  4.21574477e-02  2.60099644e-01  4.76625028e-02\n",
      " -2.79897413e-02 -1.08997793e-01 -1.11177036e-02 -3.49459997e-02\n",
      " -1.83203047e-01 -9.79829448e-03  1.70503398e-02  8.10866320e-04\n",
      " -6.74023099e-02 -2.97501572e-02 -4.30074437e-02  2.18101665e-01\n",
      " -1.58767028e-03 -2.76942280e-03  1.21688592e-01 -4.41297373e-03\n",
      "  9.46875678e-02]\n"
     ]
    }
   ],
   "source": [
    "print(trained_weights)"
   ]
  },
  {
   "cell_type": "code",
   "execution_count": 11,
   "id": "7bf50be9",
   "metadata": {},
   "outputs": [
    {
     "name": "stdout",
     "output_type": "stream",
     "text": [
      "train_accuracy = 0.8019093333333334\n",
      "validation_accuracy = 0.802784\n"
     ]
    }
   ],
   "source": [
    "# Cross validation\n",
    "predict_validation = helpers.predict_logistic(tx_validation, trained_weights)\n",
    "predict_train = helpers.predict_logistic(tx_train, trained_weights)\n",
    "\n",
    "predict_validation[predict_validation == -1] = 0\n",
    "predict_train[predict_train == -1] = 0\n",
    "\n",
    "train_accuracy = helpers.accuracy(predict_train, y_train)\n",
    "validation_accuracy = helpers.accuracy(predict_validation, y_validation)\n",
    "\n",
    "print(f\"train_accuracy = {train_accuracy}\")\n",
    "print(f\"validation_accuracy = {validation_accuracy}\")"
   ]
  },
  {
   "cell_type": "code",
   "execution_count": 12,
   "id": "951c19bf",
   "metadata": {},
   "outputs": [
    {
     "name": "stdout",
     "output_type": "stream",
     "text": [
      "[0. 0. 0. ... 1. 0. 0.]\n",
      "[1. 0. 0. ... 1. 0. 0.]\n"
     ]
    }
   ],
   "source": [
    "print(predict_validation)\n",
    "print(y_validation)"
   ]
  },
  {
   "cell_type": "code",
   "execution_count": 16,
   "id": "a5193e4f",
   "metadata": {},
   "outputs": [],
   "source": [
    "tx_test, y_test, ids_test = helpers.load_data('test.csv', train=False)\n",
    "tx_test = helpers.standardize(helpers.clean_data(tx_test))"
   ]
  },
  {
   "cell_type": "code",
   "execution_count": 17,
   "id": "c6922cc9",
   "metadata": {},
   "outputs": [
    {
     "name": "stdout",
     "output_type": "stream",
     "text": [
      "[-1. -1. -1. ...  1. -1. -1.]\n"
     ]
    }
   ],
   "source": [
    "tx_test = helpers.build_poly(tx_test, 2)\n",
    "tx_test = np.c_[np.ones((tx_test.shape[0], 1)), tx_test]\n",
    "predict_test = helpers.predict_logistic(tx_test, trained_weights)\n",
    "print(predict_test)"
   ]
  },
  {
   "cell_type": "code",
   "execution_count": 18,
   "id": "50c95d63",
   "metadata": {},
   "outputs": [],
   "source": [
    "helpers.create_csv_submission(ids_test, predict_test, 'Predictions_Logistics_degree2_2.csv')"
   ]
  },
  {
   "cell_type": "code",
   "execution_count": null,
   "id": "670ba3ca",
   "metadata": {},
   "outputs": [],
   "source": []
  }
 ],
 "metadata": {
  "kernelspec": {
   "display_name": "Python 3 (ipykernel)",
   "language": "python",
   "name": "python3"
  },
  "language_info": {
   "codemirror_mode": {
    "name": "ipython",
    "version": 3
   },
   "file_extension": ".py",
   "mimetype": "text/x-python",
   "name": "python",
   "nbconvert_exporter": "python",
   "pygments_lexer": "ipython3",
   "version": "3.9.13"
  }
 },
 "nbformat": 4,
 "nbformat_minor": 5
}
