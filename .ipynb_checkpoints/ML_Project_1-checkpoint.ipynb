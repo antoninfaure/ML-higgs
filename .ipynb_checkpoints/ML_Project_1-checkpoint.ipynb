{
 "cells": [
  {
   "cell_type": "code",
   "execution_count": null,
   "id": "cbf5f984",
   "metadata": {},
   "outputs": [],
   "source": [
    "# Useful starting lines\n",
    "%matplotlib inline\n",
    "import numpy as np\n",
    "import itertools\n",
    "import matplotlib.pyplot as plt\n",
    "#import helpers"
   ]
  },
  {
   "cell_type": "code",
   "execution_count": 2,
   "id": "38c24069",
   "metadata": {},
   "outputs": [],
   "source": [
    "def load_data(path_dataset,sub_sample=True, add_outlier=False):\n",
    "    \"\"\"Load data and convert it to the metric system.\"\"\"\n",
    "    data = np.genfromtxt(\n",
    "        path_dataset, delimiter=\",\", dtype=str,  skip_header=1)\n",
    "    labels = data[:,1]\n",
    "    labels[labels=='s']=0\n",
    "    labels[labels=='b']=1\n",
    "    labels = np.asarray(labels, dtype=float)\n",
    "    data = np.delete(data, 1, 1)\n",
    "    data = np.asarray(data, dtype=float)\n",
    "    return data, labels"
   ]
  },
  {
   "cell_type": "code",
   "execution_count": null,
   "id": "b087acc6",
   "metadata": {},
   "outputs": [],
   "source": []
  },
  {
   "cell_type": "markdown",
   "id": "888f3825",
   "metadata": {},
   "source": [
    "Prediction of :\n",
    "- type s is assigned value 0\n",
    "- type b is assigned value 1"
   ]
  },
  {
   "cell_type": "code",
   "execution_count": 3,
   "id": "f0118fe0",
   "metadata": {},
   "outputs": [],
   "source": [
    "# Load data\n",
    "train_data, labels = load_data('train.csv')"
   ]
  },
  {
   "cell_type": "code",
   "execution_count": 4,
   "id": "b8de226e",
   "metadata": {},
   "outputs": [],
   "source": [
    "# remove the columns containing a -999 value\n",
    "valid_cols = np.all(train_data!=-999, axis=0)\n",
    "train_data = train_data[:,valid_cols]"
   ]
  },
  {
   "cell_type": "code",
   "execution_count": null,
   "id": "7fb4bf07",
   "metadata": {},
   "outputs": [],
   "source": [
    "# Standardize the data\n",
    "def standardize(x):\n",
    "     \"\"\"Standardize the original data set.\"\"\"\n",
    "     mean_x = np.mean(x, axis=0)\n",
    "     x = x - mean_x\n",
    "     std_x = np.std(x, axis=0)\n",
    "     x = x / std_x\n",
    "     return x\n",
    "\n",
    "new_data = standardize(train_data)"
   ]
  },
  {
   "cell_type": "code",
   "execution_count": null,
   "id": "19e5e9f4",
   "metadata": {},
   "outputs": [],
   "source": [
    "print(new_data)"
   ]
  },
  {
   "cell_type": "markdown",
   "id": "781599cb",
   "metadata": {},
   "source": [
    "## Logistic regression\n",
    "\n",
    "- data (np.array): Dataset of shape (N, D) \n",
    "- labels (np.array): Labels of shape (N, ) \n",
    "- w (np.array): Weights of logistic regression model of shape (D, ) "
   ]
  },
  {
   "cell_type": "code",
   "execution_count": 7,
   "id": "bd06f8ad",
   "metadata": {},
   "outputs": [],
   "source": [
    "def sigmoid(t):\n",
    "    \"\"\"apply sigmoid function on t.\"\"\"\n",
    "    return 1.0 / (1 + np.exp(-t))"
   ]
  },
  {
   "cell_type": "markdown",
   "id": "a31d759b",
   "metadata": {},
   "source": [
    "Recall that the cross entropy loss is defined as:\n",
    "$$\n",
    "R(\\wb) = -\\sum_i (y_i \\log(\\hat{y}(\\xb_i)) + (1-y_i)\\log(1-\\hat{y}(\\xb_i))) $$\n",
    "\n",
    "Let's code it using NumPy. If you do it correctly, it can be written in one line!"
   ]
  },
  {
   "cell_type": "code",
   "execution_count": 8,
   "id": "873115ee",
   "metadata": {},
   "outputs": [],
   "source": [
    "def calculate_loss(y, tx, w):\n",
    "    \"\"\"compute the cost by negative log likelihood.\"\"\"\n",
    "    pred = sigmoid(tx.dot(w))\n",
    "    loss = y.T.dot(np.log(pred)) + (1 - y).T.dot(np.log(1 - pred))\n",
    "    return np.squeeze(- loss)"
   ]
  },
  {
   "cell_type": "code",
   "execution_count": 9,
   "id": "45a8db43",
   "metadata": {},
   "outputs": [],
   "source": [
    "def calculate_gradient(y, tx, w):\n",
    "    \"\"\"compute the gradient of loss.\"\"\"\n",
    "    pred = sigmoid(tx.dot(w))\n",
    "    grad = tx.T.dot(pred - y)\n",
    "    return grad"
   ]
  },
  {
   "cell_type": "code",
   "execution_count": null,
   "id": "096ab2b0",
   "metadata": {},
   "outputs": [],
   "source": [
    "def learning_by_gradient_descent(y, tx, w, gamma):\n",
    "    \"\"\"\n",
    "    Do one step of gradient descent using logistic regression.\n",
    "    Return the loss and the updated w.\n",
    "    \"\"\"\n",
    "    loss = calculate_loss(y, tx, w)\n",
    "    grad = calculate_gradient(y, tx, w)\n",
    "    w -= gamma * grad\n",
    "    return loss, w"
   ]
  },
  {
   "cell_type": "code",
   "execution_count": 10,
   "id": "fbe42eab",
   "metadata": {},
   "outputs": [],
   "source": [
    "def logistic_regression_classify(tx, w):\n",
    "    \"\"\" Classification function for binary class logistic regression. \n",
    "    \n",
    "    Args:\n",
    "        tx (np.array): Dataset of shape (N, D).\n",
    "        w (np.array): Weights of logistic regression model of shape (D, )\n",
    "    Returns:\n",
    "        np.array: Label assignments of data of shape (N, )\n",
    "    \"\"\"\n",
    "    #### write your code here: find predictions and threshold.\n",
    "    predictions = sigmoid(tx @ w)\n",
    "    predictions[predictions<0.5]=0\n",
    "    predictions[predictions>=0.5]=1        \n",
    "    return predictions"
   ]
  },
  {
   "cell_type": "code",
   "execution_count": 11,
   "id": "f6b6b1b0",
   "metadata": {},
   "outputs": [],
   "source": [
    "def accuracy(labels_gt, labels_pred):\n",
    "    \"\"\" Computes accuracy.\n",
    "    \n",
    "    Args:\n",
    "        labels_gt (np.array): GT labels of shape (N, ).\n",
    "        labels_pred (np.array): Predicted labels of shape (N, ).\n",
    "        \n",
    "    Returns:\n",
    "        float: Accuracy, in range [0, 1].\n",
    "    \"\"\"\n",
    "    \n",
    "    return np.sum(labels_gt == labels_pred) / labels_gt.shape[0]"
   ]
  },
  {
   "cell_type": "code",
   "execution_count": 12,
   "id": "9be7b002",
   "metadata": {},
   "outputs": [],
   "source": [
    "def logistic_regression(y, tx, initial_w, max_iters, gamma):\n",
    "    \"\"\" Training function for binary class logistic regression. \n",
    "    \n",
    "    Args:\n",
    "        y (np.array): Labels of shape (N, ).\n",
    "        tx (np.array): Dataset of shape (N, D).\n",
    "        initial_w (np.array): Initial weights of shape (D,)\n",
    "        max_iters (integer): Maximum number of iterations.\n",
    "        gamma (integer): Step size\n",
    "    Returns:\n",
    "        np.array: weights of shape(D, )\n",
    "    \"\"\"  \n",
    "    \n",
    "    threshold = 1e-8\n",
    "    losses = []\n",
    "    \n",
    "    w = initial_w.copy()\n",
    "    print(w.shape)\n",
    "    print(tx.shape)\n",
    "    print(y.shape)\n",
    "    for it in range(max_iters):\n",
    "        loss, w = learning_by_gradient_descent(y, tx, w, gamma)\n",
    "        # log info\n",
    "        if iter % 100 == 0:\n",
    "            print(\"Current iteration={i}, loss={l}\".format(i=iter, l=loss))\n",
    "        # converge criterion\n",
    "        losses.append(loss)\n",
    "        if len(losses) > 1 and np.abs(losses[-1] - losses[-2]) < threshold:\n",
    "            break\n",
    "    print(\"loss={l}\".format(l=calculate_loss(y, tx, w)))\n",
    "    return (w, loss)"
   ]
  },
  {
   "cell_type": "code",
   "execution_count": 13,
   "id": "30513e86",
   "metadata": {},
   "outputs": [
    {
     "name": "stdout",
     "output_type": "stream",
     "text": [
      "(21,)\n",
      "(250000, 21)\n",
      "(250000,)\n",
      "loss at iteration 0 : nan\n",
      "loss at iteration 1 : 61154621.75546359\n",
      "loss at iteration 2 : nan\n",
      "loss at iteration 3 : nan\n",
      "loss at iteration 4 : nan\n",
      "loss at iteration 5 : nan\n",
      "loss at iteration 6 : nan\n",
      "loss at iteration 7 : nan\n",
      "loss at iteration 8 : nan\n"
     ]
    },
    {
     "name": "stderr",
     "output_type": "stream",
     "text": [
      "/var/folders/nb/xkb6gsv52xq9t6plg99f32v80000gn/T/ipykernel_1156/2879491539.py:12: RuntimeWarning: divide by zero encountered in log\n",
      "  loss = y.T.dot(np.log(pred)) + (1 - y).T.dot(np.log(1 - pred))\n",
      "/var/folders/nb/xkb6gsv52xq9t6plg99f32v80000gn/T/ipykernel_1156/889618489.py:12: DeprecationWarning: elementwise comparison failed; this will raise an error in the future.\n",
      "  return np.sum(labels_gt == labels_pred) / labels_gt.shape[0]\n",
      "/var/folders/nb/xkb6gsv52xq9t6plg99f32v80000gn/T/ipykernel_1156/1482909793.py:3: RuntimeWarning: overflow encountered in exp\n",
      "  return 1.0 / (1 + np.exp(-t))\n"
     ]
    },
    {
     "name": "stdout",
     "output_type": "stream",
     "text": [
      "loss at iteration 9 : nan\n",
      "loss at iteration 10 : nan\n",
      "loss at iteration 11 : nan\n",
      "loss at iteration 12 : nan\n",
      "loss at iteration 13 : nan\n",
      "loss at iteration 14 : nan\n",
      "loss at iteration 15 : nan\n",
      "loss at iteration 16 : nan\n",
      "loss at iteration 17 : 53237890.48214967\n",
      "loss at iteration 18 : nan\n",
      "loss at iteration 19 : nan\n",
      "loss at iteration 20 : nan\n",
      "loss at iteration 21 : nan\n",
      "loss at iteration 22 : nan\n",
      "loss at iteration 23 : nan\n",
      "loss at iteration 24 : nan\n",
      "loss at iteration 25 : nan\n",
      "loss at iteration 26 : nan\n",
      "loss at iteration 27 : nan\n",
      "loss at iteration 28 : nan\n",
      "loss at iteration 29 : nan\n",
      "loss at iteration 30 : nan\n",
      "loss at iteration 31 : nan\n",
      "loss at iteration 32 : nan\n",
      "loss at iteration 33 : nan\n",
      "loss at iteration 34 : 35595872.98086763\n",
      "loss at iteration 35 : nan\n",
      "loss at iteration 36 : nan\n",
      "loss at iteration 37 : nan\n",
      "loss at iteration 38 : nan\n",
      "loss at iteration 39 : nan\n",
      "loss at iteration 40 : nan\n",
      "loss at iteration 41 : nan\n",
      "loss at iteration 42 : 50021763.13945133\n",
      "loss at iteration 43 : nan\n",
      "loss at iteration 44 : nan\n",
      "loss at iteration 45 : nan\n",
      "loss at iteration 46 : nan\n",
      "loss at iteration 47 : nan\n",
      "loss at iteration 48 : nan\n",
      "loss at iteration 49 : nan\n",
      "loss at iteration 50 : nan\n",
      "loss at iteration 51 : nan\n",
      "loss at iteration 52 : nan\n",
      "loss at iteration 53 : nan\n",
      "loss at iteration 54 : nan\n",
      "loss at iteration 55 : nan\n",
      "loss at iteration 56 : nan\n",
      "loss at iteration 57 : nan\n",
      "loss at iteration 58 : nan\n",
      "loss at iteration 59 : nan\n",
      "loss at iteration 60 : nan\n",
      "loss at iteration 61 : nan\n",
      "loss at iteration 62 : nan\n",
      "loss at iteration 63 : nan\n",
      "loss at iteration 64 : nan\n",
      "loss at iteration 65 : nan\n",
      "loss at iteration 66 : nan\n",
      "loss at iteration 67 : nan\n",
      "loss at iteration 68 : nan\n",
      "loss at iteration 69 : nan\n",
      "loss at iteration 70 : nan\n",
      "loss at iteration 71 : nan\n",
      "loss at iteration 72 : nan\n",
      "loss at iteration 73 : nan\n",
      "loss at iteration 74 : nan\n",
      "loss at iteration 75 : nan\n",
      "loss at iteration 76 : nan\n",
      "loss at iteration 77 : nan\n",
      "loss at iteration 78 : nan\n",
      "loss at iteration 79 : nan\n",
      "loss at iteration 80 : nan\n",
      "loss at iteration 81 : nan\n",
      "loss at iteration 82 : nan\n",
      "loss at iteration 83 : nan\n",
      "loss at iteration 84 : nan\n",
      "loss at iteration 85 : nan\n",
      "loss at iteration 86 : nan\n",
      "loss at iteration 87 : nan\n",
      "loss at iteration 88 : nan\n",
      "loss at iteration 89 : nan\n",
      "loss at iteration 90 : nan\n",
      "loss at iteration 91 : nan\n",
      "loss at iteration 92 : nan\n",
      "loss at iteration 93 : nan\n",
      "loss at iteration 94 : nan\n",
      "loss at iteration 95 : nan\n",
      "loss at iteration 96 : nan\n",
      "loss at iteration 97 : nan\n",
      "loss at iteration 98 : nan\n",
      "loss at iteration 99 : nan\n"
     ]
    }
   ],
   "source": [
    "# Initialize weights\n",
    "tx = np.c_[np.ones((labels.shape[0], 1)), new_data]\n",
    "initial_w = np.zeros((tx.shape[1], 1))\n",
    "trained_weights, train_loss = logistic_regression(labels, tx, initial_w, max_iters=1000, gamma=1e-3)"
   ]
  },
  {
   "cell_type": "code",
   "execution_count": null,
   "id": "f62edd4d",
   "metadata": {},
   "outputs": [],
   "source": []
  }
 ],
 "metadata": {
  "kernelspec": {
   "display_name": "Python 3 (ipykernel)",
   "language": "python",
   "name": "python3"
  },
  "language_info": {
   "codemirror_mode": {
    "name": "ipython",
    "version": 3
   },
   "file_extension": ".py",
   "mimetype": "text/x-python",
   "name": "python",
   "nbconvert_exporter": "python",
   "pygments_lexer": "ipython3",
   "version": "3.9.13"
  }
 },
 "nbformat": 4,
 "nbformat_minor": 5
}
