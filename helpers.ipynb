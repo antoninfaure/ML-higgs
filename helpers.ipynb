{
 "cells": [
  {
   "cell_type": "code",
   "execution_count": 1,
   "metadata": {},
   "outputs": [],
   "source": [
    "import numpy as np"
   ]
  },
  {
   "cell_type": "code",
   "execution_count": 1,
   "metadata": {},
   "outputs": [],
   "source": [
    "def load_data(sub_sample=True, add_outlier=False):\n",
    "    \"\"\"Load data.\"\"\"\n",
    "    path_dataset = \"test.csv\"\n",
    "    data = np.genfromtxt(path_dataset, delimiter=\",\", skip_header=1, usecols=[2,...,32])\n",
    "    \n",
    "    y = np.genfromtxt(path_dataset, delimiter=\",\", skip_header=1, usecols=[0], converters={0: lambda x: 0 if b\"Male\" in x else 1})\n",
    "    \n",
    "    features = np.zeros((0,30))\n",
    "    for i in range(2,32):\n",
    "        f = data[:, i]\n",
    "        features.append(f)\n",
    "\n",
    "    return y, features"
   ]
  }
 ],
 "metadata": {
  "kernelspec": {
   "display_name": "Python 3",
   "language": "python",
   "name": "python3"
  },
  "language_info": {
   "codemirror_mode": {
    "name": "ipython",
    "version": 3
   },
   "file_extension": ".py",
   "mimetype": "text/x-python",
   "name": "python",
   "nbconvert_exporter": "python",
   "pygments_lexer": "ipython3",
   "version": "3.8.5"
  }
 },
 "nbformat": 4,
 "nbformat_minor": 4
}
