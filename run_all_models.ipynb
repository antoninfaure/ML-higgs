{
 "cells": [
  {
   "cell_type": "code",
   "execution_count": 1,
   "metadata": {},
   "outputs": [],
   "source": [
    "# Useful starting lines\n",
    "%matplotlib inline\n",
    "import numpy as np\n",
    "import itertools\n",
    "import matplotlib.pyplot as plt\n",
    "import csv\n",
    "import helpers as helpers\n",
    "import implementations as impl\n",
    "import cross_validation as cv\n",
    "import hyperparameter_opti as hpopt"
   ]
  },
  {
   "cell_type": "markdown",
   "metadata": {},
   "source": [
    "**Data process**"
   ]
  },
  {
   "cell_type": "code",
   "execution_count": 37,
   "metadata": {},
   "outputs": [],
   "source": [
    "# Load train data\n",
    "tx_train, y_train, ids_train = helpers.load_data('train.csv')"
   ]
  },
  {
   "cell_type": "code",
   "execution_count": 38,
   "metadata": {},
   "outputs": [],
   "source": [
    "# Clean and standardize data\n",
    "tx_train, mean_train, std_train = helpers.standardize(helpers.clean_data(tx_train))"
   ]
  },
  {
   "cell_type": "code",
   "execution_count": 39,
   "metadata": {},
   "outputs": [],
   "source": [
    "#Load test data\n",
    "tx_test, y_test, ids_test = helpers.load_data('test.csv', train=False)\n",
    "\n",
    "#Standardize test data\n",
    "tx_test, _, _ = helpers.standardize(helpers.clean_data(tx_test), mean_train, std_train)"
   ]
  },
  {
   "cell_type": "markdown",
   "metadata": {},
   "source": [
    "**Least Squares:**"
   ]
  },
  {
   "cell_type": "code",
   "execution_count": null,
   "metadata": {},
   "outputs": [],
   "source": [
    "#Add bias to data:\n",
    "tx_train_ls = np.c_[np.ones((tx_train.shape[0], 1)), tx_train]"
   ]
  },
  {
   "cell_type": "code",
   "execution_count": 6,
   "metadata": {},
   "outputs": [],
   "source": [
    "# Compute weights and loss for Least Squares\n",
    "w_ls, loss_ls = impl.least_squares(y_train, tx_train_ls)"
   ]
  },
  {
   "cell_type": "code",
   "execution_count": 7,
   "metadata": {},
   "outputs": [],
   "source": [
    "# Predict training values with weights\n",
    "y_predict_ls = helpers.predict(tx_train_ls, w_ls)"
   ]
  },
  {
   "cell_type": "code",
   "execution_count": 8,
   "metadata": {},
   "outputs": [],
   "source": [
    "# Compute training accuracy\n",
    "training_accuracy_ls = helpers.accuracy(y_predict_ls, y_train)"
   ]
  },
  {
   "cell_type": "code",
   "execution_count": 9,
   "metadata": {},
   "outputs": [
    {
     "name": "stdout",
     "output_type": "stream",
     "text": [
      "0.682832\n"
     ]
    }
   ],
   "source": [
    "print(training_accuracy_ls)"
   ]
  },
  {
   "cell_type": "code",
   "execution_count": null,
   "metadata": {},
   "outputs": [],
   "source": [
    "#Add bias to test data\n",
    "tx_test_ls = np.c_[np.ones((tx_test.shape[0], 1)), tx_test]"
   ]
  },
  {
   "cell_type": "code",
   "execution_count": 10,
   "metadata": {},
   "outputs": [],
   "source": [
    "# Predict test labels\n",
    "y_test_ls = helpers.predict(tx_test_ls, w_ls)"
   ]
  },
  {
   "cell_type": "code",
   "execution_count": null,
   "metadata": {},
   "outputs": [],
   "source": [
    "# Output results in csv\n",
    "helpers.create_csv_submission(ids_test, y_test_ls, 'Predictions_LS.csv')"
   ]
  },
  {
   "cell_type": "markdown",
   "metadata": {},
   "source": [
    "**Ridge regression:**"
   ]
  },
  {
   "cell_type": "code",
   "execution_count": 14,
   "metadata": {},
   "outputs": [],
   "source": [
    "# Build polynomial basis from the entire training set using the optimal degree\n",
    "tx_train_ridge = cv.build_poly(tx_train, 2)\n",
    "\n",
    "#Add bias to data:\n",
    "tx_train_ridge = np.c_[np.ones((tx_train_ridge.shape[0], 1)), tx_train_ridge]\n",
    "\n",
    "# Compute weights and loss for Ridge Regression\n",
    "w_ridge, loss_ridge = impl.ridge_regression(y_train, tx_train_ridge, 0.001)"
   ]
  },
  {
   "cell_type": "code",
   "execution_count": 17,
   "metadata": {},
   "outputs": [
    {
     "name": "stdout",
     "output_type": "stream",
     "text": [
      "0.701296\n"
     ]
    }
   ],
   "source": [
    "# Predict training labels with weights\n",
    "y_predict_ridge = helpers.predict(tx_train_ridge, w_ridge)\n",
    "\n",
    "# Compute training accuracy\n",
    "training_accuracy_ridge = helpers.accuracy(y_predict_ridge, y_train)\n",
    "\n",
    "print(training_accuracy_ridge)"
   ]
  },
  {
   "cell_type": "code",
   "execution_count": 19,
   "metadata": {},
   "outputs": [],
   "source": [
    "# Build polynomial basis from the test set\n",
    "tx_test_ridge = cv.build_poly(tx_test, 2)\n",
    "\n",
    "#Add bias to test data\n",
    "tx_test_ridge = np.c_[np.ones((tx_test_ridge.shape[0], 1)), tx_test_ridge]\n",
    "\n",
    "# Compute predicted labels\n",
    "y_test_ridge = helpers.predict(tx_test_ridge, w_ridge)"
   ]
  },
  {
   "cell_type": "code",
   "execution_count": null,
   "metadata": {},
   "outputs": [],
   "source": [
    "# Output results in csv\n",
    "helpers.create_csv_submission(ids_test, y_test_ridge, 'Predictions_RG.csv')"
   ]
  },
  {
   "cell_type": "markdown",
   "metadata": {},
   "source": [
    "**Logistic Regression:**"
   ]
  },
  {
   "cell_type": "code",
   "execution_count": 20,
   "metadata": {},
   "outputs": [],
   "source": [
    "# Refactor -1 to 0\n",
    "y_train_log = y_train.copy()\n",
    "y_train_log[y_train_log == -1] = 0"
   ]
  },
  {
   "cell_type": "code",
   "execution_count": 21,
   "metadata": {},
   "outputs": [],
   "source": [
    "# Shuffle data\n",
    "y_train_log, tx_train_log = helpers.shuffle_data(y_train_log, tx_train_log)"
   ]
  },
  {
   "cell_type": "code",
   "execution_count": 22,
   "metadata": {},
   "outputs": [],
   "source": [
    "# Slice into training and validation sets\n",
    "y_validation_log, y_train_log, tx_validation_log, tx_train_log = helpers.slice_data(y_train_log, tx_train_log, 0.25)"
   ]
  },
  {
   "cell_type": "code",
   "execution_count": null,
   "metadata": {},
   "outputs": [],
   "source": [
    "#Add bias to data:\n",
    "tx_train_log = np.c_[np.ones((tx_train_log.shape[0], 1)), tx_train_log]\n",
    "tx_validation_log = np.c_[np.ones((tx_validation_log.shape[0], 1)), tx_validation_log]"
   ]
  },
  {
   "cell_type": "code",
   "execution_count": 23,
   "metadata": {},
   "outputs": [],
   "source": [
    "# Initialize the weights randomly according to a Gaussian distribution\n",
    "initial_w = np.random.normal(0., 0.1, [tx_train_log.shape[1],])"
   ]
  },
  {
   "cell_type": "code",
   "execution_count": 25,
   "metadata": {},
   "outputs": [
    {
     "name": "stdout",
     "output_type": "stream",
     "text": [
      "Current iteration=0, loss=0.7178237274451356\n",
      "Current iteration=100, loss=0.6754602627854734\n",
      "Current iteration=200, loss=0.6477562918396289\n",
      "Current iteration=300, loss=0.6278412106289103\n",
      "Current iteration=400, loss=0.6126128262571284\n",
      "Current iteration=500, loss=0.6004933816783325\n",
      "Current iteration=600, loss=0.5905862435316124\n",
      "Current iteration=700, loss=0.5823326948137376\n",
      "Current iteration=800, loss=0.5753584090569795\n",
      "Current iteration=900, loss=0.5693985011413968\n",
      "Current iteration=1000, loss=0.5642578353080218\n",
      "Current iteration=1100, loss=0.5597883477005114\n",
      "Current iteration=1200, loss=0.5558751759430723\n",
      "Current iteration=1300, loss=0.5524276699169159\n",
      "Current iteration=1400, loss=0.5493732879272637\n",
      "Current iteration=1500, loss=0.5466532990540784\n",
      "Current iteration=1600, loss=0.5442196717414793\n",
      "Current iteration=1700, loss=0.5420327720351004\n",
      "Current iteration=1800, loss=0.5400596313267655\n",
      "Current iteration=1900, loss=0.5382726242123334\n",
      "Current iteration=2000, loss=0.5366484472171642\n",
      "Current iteration=2100, loss=0.5351673215952334\n",
      "Current iteration=2200, loss=0.5338123651263673\n",
      "Current iteration=2300, loss=0.5325690927692206\n",
      "Current iteration=2400, loss=0.531425016519194\n",
      "Current iteration=2500, loss=0.5303693223205492\n",
      "Current iteration=2600, loss=0.5293926073202502\n",
      "Current iteration=2700, loss=0.5284866647415188\n",
      "Current iteration=2800, loss=0.527644306613365\n",
      "Current iteration=2900, loss=0.526859216805339\n"
     ]
    }
   ],
   "source": [
    "# Train model\n",
    "w_log, loss_log = impl.logistic_regression(y_train_log, tx_train_log, initial_w, max_iters=3000, gamma=0.003)"
   ]
  },
  {
   "cell_type": "code",
   "execution_count": 26,
   "metadata": {},
   "outputs": [
    {
     "name": "stdout",
     "output_type": "stream",
     "text": [
      "train_accuracy = 0.7349653333333334\n",
      "validation_accuracy = 0.734784\n"
     ]
    }
   ],
   "source": [
    "# Cross validation\n",
    "predict_validation_log = helpers.predict_logistic(tx_validation_log, w_log)\n",
    "predict_train_log = helpers.predict_logistic(tx_train_log, w_log)\n",
    "\n",
    "predict_validation_log[predict_validation_log == -1] = 0\n",
    "predict_train_log[predict_train_log == -1] = 0\n",
    "\n",
    "train_accuracy_log = helpers.accuracy(predict_train_log, y_train_log)\n",
    "validation_accuracy_log = helpers.accuracy(predict_validation_log, y_validation_log)\n",
    "\n",
    "print(f\"train_accuracy = {train_accuracy_log}\")\n",
    "print(f\"validation_accuracy = {validation_accuracy_log}\")"
   ]
  },
  {
   "cell_type": "code",
   "execution_count": null,
   "metadata": {},
   "outputs": [],
   "source": [
    "#Add bias to test data\n",
    "tx_test_log = np.c_[np.ones((tx_test.shape[0], 1)), tx_test]"
   ]
  },
  {
   "cell_type": "code",
   "execution_count": 28,
   "metadata": {},
   "outputs": [
    {
     "name": "stdout",
     "output_type": "stream",
     "text": [
      "[-1. -1. -1. ... -1.  1. -1.]\n"
     ]
    }
   ],
   "source": [
    "predict_test_log = helpers.predict_logistic(tx_test_log, w_log)\n",
    "print(predict_test_log)"
   ]
  },
  {
   "cell_type": "code",
   "execution_count": null,
   "metadata": {},
   "outputs": [],
   "source": [
    "helpers.create_csv_submission(ids_test, predict_test_log, 'Predictions_Logistics.csv')"
   ]
  },
  {
   "cell_type": "markdown",
   "metadata": {},
   "source": [
    "**Logistic regression with polynomial features:**"
   ]
  },
  {
   "cell_type": "code",
   "execution_count": 40,
   "metadata": {},
   "outputs": [
    {
     "name": "stdout",
     "output_type": "stream",
     "text": [
      "(250000, 495)\n"
     ]
    }
   ],
   "source": [
    "#Build polynomial with the optimal degree found previously:\n",
    "tx_train_log2 = helpers.build_poly_deg2(tx_train)\n",
    "print(tx_train_log2.shape)"
   ]
  },
  {
   "cell_type": "code",
   "execution_count": 41,
   "metadata": {},
   "outputs": [],
   "source": [
    "#Add bias to data:\n",
    "tx_train_log2 = np.c_[np.ones((tx_train_log2.shape[0], 1)), tx_train_log2]"
   ]
  },
  {
   "cell_type": "code",
   "execution_count": 42,
   "metadata": {},
   "outputs": [],
   "source": [
    "# Refactor -1 to 0\n",
    "y_train_log2 = y_train.copy()\n",
    "y_train_log2[y_train_log2 == -1] = 0"
   ]
  },
  {
   "cell_type": "code",
   "execution_count": 43,
   "metadata": {},
   "outputs": [
    {
     "name": "stdout",
     "output_type": "stream",
     "text": [
      "(496,)\n"
     ]
    }
   ],
   "source": [
    "#Reinitialize weight vector such that the dimensions are adapted to the polynomial feature matrix:\n",
    "initial_w = np.random.normal(0., 0.1, [tx_train_log2.shape[1],])\n",
    "print(initial_w.shape)"
   ]
  },
  {
   "cell_type": "code",
   "execution_count": 44,
   "metadata": {},
   "outputs": [
    {
     "name": "stderr",
     "output_type": "stream",
     "text": [
      "/Users/antoninfaure/Documents/MA1/ml-project-1-md_am_af-project1/implementations.py:18: RuntimeWarning: overflow encountered in exp\n",
      "  return 1 / (1 + np.exp(-t))\n"
     ]
    },
    {
     "name": "stdout",
     "output_type": "stream",
     "text": [
      "Current iteration=0, loss=1.1767571947949713\n",
      "Current iteration=100, loss=0.8252632049159756\n",
      "Current iteration=200, loss=0.737520893109982\n",
      "Current iteration=300, loss=0.6867324648049475\n",
      "Current iteration=400, loss=0.6519676421654641\n",
      "Current iteration=500, loss=0.6248088751731362\n",
      "Current iteration=600, loss=0.6026980585469703\n",
      "Current iteration=700, loss=0.5842254315378697\n",
      "Current iteration=800, loss=0.5685323050621113\n",
      "Current iteration=900, loss=0.5550148400626531\n",
      "Current iteration=1000, loss=0.5432608119181062\n",
      "Current iteration=1100, loss=0.5329644183554313\n",
      "Current iteration=1200, loss=0.523890642773351\n",
      "Current iteration=1300, loss=0.5158511692693404\n",
      "Current iteration=1400, loss=0.5086934819979531\n",
      "Current iteration=1500, loss=0.5022918980825637\n",
      "Current iteration=1600, loss=0.49654196316337434\n",
      "Current iteration=1700, loss=0.491357207667324\n",
      "Current iteration=1800, loss=0.4866657856151398\n",
      "Current iteration=1900, loss=0.4824071081971684\n",
      "Current iteration=2000, loss=0.4785295010161574\n",
      "Current iteration=2100, loss=0.4749885653958259\n",
      "Current iteration=2200, loss=0.47174582037483515\n",
      "Current iteration=2300, loss=0.46876771866149175\n",
      "Current iteration=2400, loss=0.46602503584708704\n",
      "Current iteration=2500, loss=0.4634923950177251\n",
      "Current iteration=2600, loss=0.4611477801783945\n",
      "Current iteration=2700, loss=0.4589720441719633\n",
      "Current iteration=2800, loss=0.4569484611550079\n",
      "Current iteration=2900, loss=0.45506235326566435\n"
     ]
    }
   ],
   "source": [
    "#Train the model with polynomial features:\n",
    "w_log2, loss_log2 = impl.logistic_regression(y_train_log2, tx_train_log2, initial_w, max_iters=3000, gamma=0.003)"
   ]
  },
  {
   "cell_type": "code",
   "execution_count": 48,
   "metadata": {},
   "outputs": [
    {
     "name": "stdout",
     "output_type": "stream",
     "text": [
      "0.794816\n"
     ]
    }
   ],
   "source": [
    "# Predict train labels\n",
    "predict_train_log2 = helpers.predict_logistic(tx_train_log2, w_log2)\n",
    "predict_train_log2[predict_train_log2 == -1] = 0\n",
    "\n",
    "# Compute training accuracy\n",
    "training_accuracy_log2 = helpers.accuracy(y_train_log2, predict_train_log2)\n",
    "\n",
    "print(training_accuracy_log2)"
   ]
  },
  {
   "cell_type": "code",
   "execution_count": 51,
   "metadata": {},
   "outputs": [],
   "source": [
    "#Build polynomial basis from test data:\n",
    "tx_test_log2 = helpers.build_poly_deg2(tx_test)\n",
    "\n",
    "#Add bias to test data\n",
    "tx_test_log2 = np.c_[np.ones((tx_test_log2.shape[0], 1)), tx_test_log2]\n",
    "\n",
    "#Compute predicted labels:\n",
    "y_predict_log2 = helpers.predict_logistic(tx_test_log2, w_log2)"
   ]
  },
  {
   "cell_type": "code",
   "execution_count": null,
   "metadata": {},
   "outputs": [],
   "source": [
    "helpers.create_csv_submission(ids_test, y_predict_log2, 'Predictions_Logistics_Polynomial.csv')"
   ]
  }
 ],
 "metadata": {
  "kernelspec": {
   "display_name": "Python 3 (ipykernel)",
   "language": "python",
   "name": "python3"
  },
  "language_info": {
   "codemirror_mode": {
    "name": "ipython",
    "version": 3
   },
   "file_extension": ".py",
   "mimetype": "text/x-python",
   "name": "python",
   "nbconvert_exporter": "python",
   "pygments_lexer": "ipython3",
   "version": "3.9.13"
  }
 },
 "nbformat": 4,
 "nbformat_minor": 4
}
