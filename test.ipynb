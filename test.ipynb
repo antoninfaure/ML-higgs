{
 "cells": [
  {
   "cell_type": "code",
   "execution_count": 12,
   "metadata": {},
   "outputs": [
    {
     "name": "stdout",
     "output_type": "stream",
     "text": [
      "The autoreload extension is already loaded. To reload it, use:\n",
      "  %reload_ext autoreload\n"
     ]
    }
   ],
   "source": [
    "%matplotlib inline\n",
    "import numpy as np\n",
    "import matplotlib.pyplot as plt\n",
    "%load_ext autoreload\n",
    "%autoreload 2\n",
    "\n",
    "import numpy as np"
   ]
  },
  {
   "cell_type": "code",
   "execution_count": 11,
   "metadata": {},
   "outputs": [],
   "source": [
    "#def load_data(sub_sample=True, add_outlier=False):\n",
    "    #\"\"\"Load data.\"\"\"\n",
    "    #path_dataset = \"test.csv\"\n",
    "    #data = np.genfromtxt(path_dataset, delimiter=\",\", skip_header=1, usecols=range(2,32))\n",
    "    \n",
    "    #y = np.genfromtxt(path_dataset, delimiter=\",\", skip_header=1, usecols=[0], converters={0: lambda x: 0 if b\"b\" in x else 1})\n",
    "    \n",
    "    #features = []\n",
    "    #for i in range(0,30):\n",
    "        #f = data[:, i]\n",
    "        #features.append(f)\n",
    "\n",
    "    #return y, features"
   ]
  },
  {
   "cell_type": "code",
   "execution_count": 30,
   "metadata": {},
   "outputs": [],
   "source": [
    "def load_data(path_dataset,sub_sample=True, add_outlier=False):\n",
    "    \"\"\"Load data and convert it to the metric system.\"\"\"\n",
    "    data = np.genfromtxt(\n",
    "        path_dataset, delimiter=\",\", dtype=str,  skip_header=1)\n",
    "    id_ = data[:,0]\n",
    "    labels = data[:,1]\n",
    "    labels[labels=='s']=0\n",
    "    labels[labels=='b']=1\n",
    "    labels = np.asarray(labels, dtype=float)\n",
    "    data = np.delete(data, 0, 1)\n",
    "    data = np.delete(data, 0, 1)\n",
    "    data = np.asarray(data, dtype=float)\n",
    "    #data[:,:][data[:,:]==-999]=None\n",
    "    return id_, data, labels"
   ]
  },
  {
   "cell_type": "code",
   "execution_count": 31,
   "metadata": {},
   "outputs": [],
   "source": [
    "#import datetime\n",
    "#from helpers import *\n",
    "\n",
    "id_, data, labels = load_data('train.csv',sub_sample=False, add_outlier=False)"
   ]
  },
  {
   "cell_type": "code",
   "execution_count": 4,
   "metadata": {},
   "outputs": [],
   "source": [
    "import sys\n",
    "sys.path.append(\"../ML_course/labs/ex02/template\")"
   ]
  },
  {
   "cell_type": "code",
   "execution_count": 33,
   "metadata": {},
   "outputs": [],
   "source": [
    "import grid_search        # You then need to call your functions using grid_search.function_name()\n",
    "import grid_search as gs  # You then need to call your functions using gs.function_name()\n",
    "from grid_search import * \n",
    "from helpers import *\n",
    "from gradient_descent import *"
   ]
  },
  {
   "cell_type": "code",
   "execution_count": 34,
   "metadata": {},
   "outputs": [],
   "source": [
    "def least_squares(y, tx):\n",
    "    \"\"\"Calculate the least squares solution.\n",
    "       returns mse, and optimal weights.\n",
    "    \n",
    "    Args:\n",
    "        y: numpy array of shape (N,), N is the number of samples.\n",
    "        tx: numpy array of shape (N,D), D is the number of features.\n",
    "    \n",
    "    Returns:\n",
    "        w: optimal weights, numpy array of shape(D,), D is the number of features.\n",
    "        mse: scalar.\n",
    "\n",
    "    >>> least_squares(np.array([0.1,0.2]), np.array([[2.3, 3.2], [1., 0.1]]))\n",
    "    (array([ 0.21212121, -0.12121212]), 8.666684749742561e-33)\n",
    "    \"\"\"\n",
    "    #We solve the normal equations using QR decomposition, which is a computationally efficient method.\n",
    "    a = tx.T.dot(tx)\n",
    "    b = tx.T.dot(y)\n",
    "    w = np.linalg.solve(a, b)\n",
    "    err = y-tx.dot(w)\n",
    "    mse =  1/2*np.mean(err**2)\n",
    "    \n",
    "    return w, mse"
   ]
  },
  {
   "cell_type": "code",
   "execution_count": 35,
   "metadata": {},
   "outputs": [
    {
     "name": "stdout",
     "output_type": "stream",
     "text": [
      "[-5.13337576e-05  3.68034841e-03  2.76876435e-03  3.71469092e-04\n",
      "  3.22966260e-02 -2.70049882e-04  1.60997680e-02 -1.38909746e-01\n",
      " -8.06249322e-05  1.20588375e+00  1.17545426e-01 -4.68956356e-02\n",
      " -5.81234689e-02 -1.20958824e+00  2.61671623e-04  4.19882018e-04\n",
      " -1.21235837e+00  5.15936288e-04 -6.58209587e-04 -1.84580933e-03\n",
      " -3.66306266e-04  3.30966314e-04  3.30097114e-01  2.35254770e-03\n",
      " -1.28895778e-03 -1.45058541e-03  3.07314561e-03  1.88679026e-03\n",
      "  4.55364605e-03 -1.20779460e+00]\n",
      "(30,)\n",
      "0.08571970821315715\n"
     ]
    }
   ],
   "source": [
    "w, mse = least_squares(labels,data)\n",
    "print(w)\n",
    "print(w.shape)\n",
    "print(mse)"
   ]
  },
  {
   "cell_type": "code",
   "execution_count": 10,
   "metadata": {},
   "outputs": [],
   "source": [
    "def ridge_regression(x, y, lambda_):\n",
    "    A = x.T.dot(x) + 2*len(x)*lambda_*np.identity(x.shape[1])\n",
    "    B = x.T.dot(y)\n",
    "    return np.linalg.solve(A,B)"
   ]
  },
  {
   "cell_type": "code",
   "execution_count": null,
   "metadata": {},
   "outputs": [],
   "source": []
  }
 ],
 "metadata": {
  "kernelspec": {
   "display_name": "Python 3",
   "language": "python",
   "name": "python3"
  },
  "language_info": {
   "codemirror_mode": {
    "name": "ipython",
    "version": 3
   },
   "file_extension": ".py",
   "mimetype": "text/x-python",
   "name": "python",
   "nbconvert_exporter": "python",
   "pygments_lexer": "ipython3",
   "version": "3.8.5"
  }
 },
 "nbformat": 4,
 "nbformat_minor": 4
}
