{
 "cells": [
  {
   "cell_type": "code",
   "execution_count": null,
   "id": "cbf5f984",
   "metadata": {},
   "outputs": [],
   "source": [
    "# Useful starting lines\n",
    "%matplotlib inline\n",
    "import numpy as np\n",
    "import itertools\n",
    "import matplotlib.pyplot as plt\n",
    "import csv\n",
    "import helpers as helpers\n",
    "import implementations as impl"
   ]
  },
  {
   "cell_type": "code",
   "execution_count": null,
   "id": "f0118fe0",
   "metadata": {},
   "outputs": [],
   "source": [
    "# Load data\n",
    "train_data, train_labels, ids = helpers.load_data_train('train.csv')"
   ]
  },
  {
   "cell_type": "code",
   "execution_count": null,
   "id": "19e5e9f4",
   "metadata": {},
   "outputs": [],
   "source": [
    "# Clean and standardize data\n",
    "#clean_cols = np.where(np.sum(train_data == -999, axis=0)/train_data.shape[0] < 0.5, True, False)\n",
    "new_data = helpers.standardize(helpers.clean_data(train_data))\n",
    "train_labels[train_labels==-1]=0"
   ]
  },
  {
   "cell_type": "code",
   "execution_count": null,
   "id": "abdd6156",
   "metadata": {},
   "outputs": [],
   "source": [
    "# Shuffle data\n",
    "inds = np.random.permutation(new_data.shape[0])\n",
    "new_data = new_data[inds]\n",
    "train_labels = train_labels[inds]"
   ]
  },
  {
   "cell_type": "code",
   "execution_count": null,
   "id": "30513e86",
   "metadata": {
    "scrolled": true
   },
   "outputs": [],
   "source": [
    "# Add bias to data\n",
    "tx = np.c_[np.ones((train_labels.shape[0], 1)), new_data]\n",
    "\n",
    "#initialize the weights randomly according to a Gaussian distribution\n",
    "initial_w = np.random.normal(0., 0.1, [tx.shape[1],])\n",
    "\n",
    "# Train model\n",
    "trained_weights, train_loss = impl.logistic_regression(train_labels, tx, initial_w, max_iters=10000, gamma=0.01)"
   ]
  },
  {
   "cell_type": "code",
   "execution_count": null,
   "id": "9288e049",
   "metadata": {
    "scrolled": true
   },
   "outputs": [],
   "source": [
    "print(trained_weights)"
   ]
  },
  {
   "cell_type": "code",
   "execution_count": null,
   "id": "7bf50be9",
   "metadata": {},
   "outputs": [],
   "source": [
    "# Validation data\n",
    "tx_validation = np.c_[np.ones((train_labels.shape[0], 1)), new_data]\n",
    "validation_predict = helpers.predict_logistic(tx_validation, trained_weights)\n",
    "validation_labels = train_labels.copy()\n",
    "validation_labels[validation_labels == 0] = -1"
   ]
  },
  {
   "cell_type": "code",
   "execution_count": null,
   "id": "951c19bf",
   "metadata": {},
   "outputs": [],
   "source": [
    "print(validation_predict)\n",
    "print(validation_labels)"
   ]
  },
  {
   "cell_type": "code",
   "execution_count": null,
   "id": "5caaf7f5",
   "metadata": {},
   "outputs": [],
   "source": [
    "train_accuracy = helpers.accuracy(validation_predict, validation_labels)"
   ]
  },
  {
   "cell_type": "code",
   "execution_count": null,
   "id": "e6a3c71f",
   "metadata": {},
   "outputs": [],
   "source": [
    "print(train_accuracy)"
   ]
  },
  {
   "cell_type": "code",
   "execution_count": null,
   "id": "a5193e4f",
   "metadata": {},
   "outputs": [],
   "source": [
    "test_data, labels, ids = helpers.load_data_test('test.csv')\n",
    "test_data = helpers.standardize(helpers.clean_data(test_data))"
   ]
  },
  {
   "cell_type": "code",
   "execution_count": null,
   "id": "c6922cc9",
   "metadata": {},
   "outputs": [],
   "source": [
    "tx_test = np.c_[np.ones((test_data.shape[0], 1)), test_data]\n",
    "print(tx_test.shape)\n",
    "print(trained_weights.shape)\n",
    "predicted_labels = helpers.predict_logistic(tx_test, trained_weights)\n",
    "print(predicted_labels)"
   ]
  },
  {
   "cell_type": "code",
   "execution_count": null,
   "id": "50c95d63",
   "metadata": {},
   "outputs": [],
   "source": [
    "helpers.create_csv_submission(ids, predicted_labels, 'Predictions_Logistics.csv')"
   ]
  }
 ],
 "metadata": {
  "kernelspec": {
   "display_name": "Python 3 (ipykernel)",
   "language": "python",
   "name": "python3"
  },
  "language_info": {
   "codemirror_mode": {
    "name": "ipython",
    "version": 3
   },
   "file_extension": ".py",
   "mimetype": "text/x-python",
   "name": "python",
   "nbconvert_exporter": "python",
   "pygments_lexer": "ipython3",
   "version": "3.9.13"
  }
 },
 "nbformat": 4,
 "nbformat_minor": 5
}
