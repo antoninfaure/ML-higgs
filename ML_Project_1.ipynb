{
 "cells": [
  {
   "cell_type": "code",
   "execution_count": 1,
   "id": "cbf5f984",
   "metadata": {},
   "outputs": [],
   "source": [
    "# Useful starting lines\n",
    "%matplotlib inline\n",
    "import numpy as np\n",
    "import matplotlib.pyplot as plt\n",
    "#import helpers"
   ]
  },
  {
   "cell_type": "code",
   "execution_count": 76,
   "id": "38c24069",
   "metadata": {},
   "outputs": [],
   "source": [
    "def load_data(path_dataset,sub_sample=True, add_outlier=False):\n",
    "    \"\"\"Load data and convert it to the metric system.\"\"\"\n",
    "    data = np.genfromtxt(\n",
    "        path_dataset, delimiter=\",\", dtype=None, encoding=None)\n",
    "    labels = data[0,:]\n",
    "    data = data[1:,:]\n",
    "    data[:,1][data[:,1]=='s']=0\n",
    "    data[:,1][data[:,1]=='b']=1\n",
    "    data = np.asarray(data, dtype=float)\n",
    "    data[:,:][data[:,:]==-999]=None\n",
    "    return data, np.array(labels)"
   ]
  },
  {
   "cell_type": "markdown",
   "id": "888f3825",
   "metadata": {},
   "source": [
    "Prediction of :\n",
    "- type s is assigned value 0\n",
    "- type b is assigned value 1"
   ]
  },
  {
   "cell_type": "code",
   "execution_count": 77,
   "id": "f0118fe0",
   "metadata": {},
   "outputs": [],
   "source": [
    "# Load data\n",
    "train_data, labels = load_data('train.csv')"
   ]
  },
  {
   "cell_type": "code",
   "execution_count": 86,
   "id": "b8de226e",
   "metadata": {},
   "outputs": [
    {
     "name": "stdout",
     "output_type": "stream",
     "text": [
      "[[ 1.00000e+05  0.00000e+00  1.38470e+02 ...  1.24000e+00 -2.47500e+00\n",
      "   1.13497e+02]\n",
      " [ 1.00001e+05  1.00000e+00  1.60937e+02 ...          nan          nan\n",
      "   4.62260e+01]\n",
      " [ 1.00002e+05  1.00000e+00          nan ...          nan          nan\n",
      "   4.42510e+01]\n",
      " ...\n",
      " [ 3.49997e+05  0.00000e+00  1.05457e+02 ...          nan          nan\n",
      "   4.19920e+01]\n",
      " [ 3.49998e+05  1.00000e+00  9.49510e+01 ...          nan          nan\n",
      "   0.00000e+00]\n",
      " [ 3.49999e+05  1.00000e+00          nan ...          nan          nan\n",
      "   0.00000e+00]]\n"
     ]
    }
   ],
   "source": [
    "# remove the 'Prediction' column (string thus useless)\n",
    "print(train_data)"
   ]
  },
  {
   "cell_type": "markdown",
   "id": "781599cb",
   "metadata": {},
   "source": [
    "## Logistic regression\n",
    "\n",
    "- data (np.array): Dataset of shape (N, D) \n",
    "- labels (np.array): Labels of shape (N, ) \n",
    "- w (np.array): Weights of logistic regression model of shape (D, ) "
   ]
  },
  {
   "cell_type": "code",
   "execution_count": null,
   "id": "eb1aa277",
   "metadata": {},
   "outputs": [],
   "source": [
    "def sigmoid(t):\n",
    "    \"\"\" Sigmoid function\n",
    "    \n",
    "    Args:\n",
    "        t (np.array): Input data of shape (N, )\n",
    "        s\n",
    "    Returns:\n",
    "        np.array: Probabilites of shape (N, ), where each value is in [0, 1].\n",
    "    \"\"\"\n",
    "    return 1/(1+np.exp(-t))"
   ]
  }
 ],
 "metadata": {
  "kernelspec": {
   "display_name": "Python 3 (ipykernel)",
   "language": "python",
   "name": "python3"
  },
  "language_info": {
   "codemirror_mode": {
    "name": "ipython",
    "version": 3
   },
   "file_extension": ".py",
   "mimetype": "text/x-python",
   "name": "python",
   "nbconvert_exporter": "python",
   "pygments_lexer": "ipython3",
   "version": "3.9.13"
  }
 },
 "nbformat": 4,
 "nbformat_minor": 5
}
